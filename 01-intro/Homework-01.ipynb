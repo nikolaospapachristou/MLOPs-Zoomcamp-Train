{
 "cells": [
  {
   "cell_type": "code",
   "execution_count": 123,
   "metadata": {},
   "outputs": [],
   "source": [
    "import pandas as pd\n",
    "import pickle\n",
    "import seaborn as sns\n",
    "import numpy as np\n",
    "import matplotlib.pyplot as plt\n",
    "from sklearn.feature_extraction import DictVectorizer\n",
    "from sklearn.linear_model import LinearRegression\n",
    "from sklearn.linear_model import Lasso\n",
    "from sklearn.linear_model import Ridge\n",
    "from sklearn.metrics import mean_squared_error"
   ]
  },
  {
   "cell_type": "code",
   "execution_count": 124,
   "metadata": {},
   "outputs": [],
   "source": [
    "YellowTaxiJanuary = pd.read_parquet('./yellow_tripdata_2022-01.parquet')\n",
    "YellowTaxiFebruary = pd.read_parquet('./yellow_tripdata_2022-02.parquet')"
   ]
  },
  {
   "cell_type": "code",
   "execution_count": 125,
   "metadata": {},
   "outputs": [
    {
     "data": {
      "text/plain": [
       "<bound method NDFrame.head of          VendorID tpep_pickup_datetime tpep_dropoff_datetime  passenger_count  \\\n",
       "0               1  2022-01-01 00:35:40   2022-01-01 00:53:29              2.0   \n",
       "1               1  2022-01-01 00:33:43   2022-01-01 00:42:07              1.0   \n",
       "2               2  2022-01-01 00:53:21   2022-01-01 01:02:19              1.0   \n",
       "3               2  2022-01-01 00:25:21   2022-01-01 00:35:23              1.0   \n",
       "4               2  2022-01-01 00:36:48   2022-01-01 01:14:20              1.0   \n",
       "...           ...                  ...                   ...              ...   \n",
       "2463926         2  2022-01-31 23:36:53   2022-01-31 23:42:51              NaN   \n",
       "2463927         2  2022-01-31 23:44:22   2022-01-31 23:55:01              NaN   \n",
       "2463928         2  2022-01-31 23:39:00   2022-01-31 23:50:00              NaN   \n",
       "2463929         2  2022-01-31 23:36:42   2022-01-31 23:48:45              NaN   \n",
       "2463930         2  2022-01-31 23:46:00   2022-02-01 00:13:00              NaN   \n",
       "\n",
       "         trip_distance  RatecodeID store_and_fwd_flag  PULocationID  \\\n",
       "0                 3.80         1.0                  N           142   \n",
       "1                 2.10         1.0                  N           236   \n",
       "2                 0.97         1.0                  N           166   \n",
       "3                 1.09         1.0                  N           114   \n",
       "4                 4.30         1.0                  N            68   \n",
       "...                ...         ...                ...           ...   \n",
       "2463926           1.32         NaN               None            90   \n",
       "2463927           4.19         NaN               None           107   \n",
       "2463928           2.10         NaN               None           113   \n",
       "2463929           2.92         NaN               None           148   \n",
       "2463930           8.94         NaN               None           186   \n",
       "\n",
       "         DOLocationID  payment_type  fare_amount  extra  mta_tax  tip_amount  \\\n",
       "0                 236             1        14.50    3.0      0.5        3.65   \n",
       "1                  42             1         8.00    0.5      0.5        4.00   \n",
       "2                 166             1         7.50    0.5      0.5        1.76   \n",
       "3                  68             2         8.00    0.5      0.5        0.00   \n",
       "4                 163             1        23.50    0.5      0.5        3.00   \n",
       "...               ...           ...          ...    ...      ...         ...   \n",
       "2463926           170             0         8.00    0.0      0.5        2.39   \n",
       "2463927            75             0        16.80    0.0      0.5        4.35   \n",
       "2463928           246             0        11.22    0.0      0.5        2.00   \n",
       "2463929           164             0        12.40    0.0      0.5        0.00   \n",
       "2463930           181             0        25.48    0.0      0.5        6.28   \n",
       "\n",
       "         tolls_amount  improvement_surcharge  total_amount  \\\n",
       "0                 0.0                    0.3         21.95   \n",
       "1                 0.0                    0.3         13.30   \n",
       "2                 0.0                    0.3         10.56   \n",
       "3                 0.0                    0.3         11.80   \n",
       "4                 0.0                    0.3         30.30   \n",
       "...               ...                    ...           ...   \n",
       "2463926           0.0                    0.3         13.69   \n",
       "2463927           0.0                    0.3         24.45   \n",
       "2463928           0.0                    0.3         16.52   \n",
       "2463929           0.0                    0.3         15.70   \n",
       "2463930           0.0                    0.3         35.06   \n",
       "\n",
       "         congestion_surcharge  airport_fee  \n",
       "0                         2.5          0.0  \n",
       "1                         0.0          0.0  \n",
       "2                         0.0          0.0  \n",
       "3                         2.5          0.0  \n",
       "4                         2.5          0.0  \n",
       "...                       ...          ...  \n",
       "2463926                   NaN          NaN  \n",
       "2463927                   NaN          NaN  \n",
       "2463928                   NaN          NaN  \n",
       "2463929                   NaN          NaN  \n",
       "2463930                   NaN          NaN  \n",
       "\n",
       "[2463931 rows x 19 columns]>"
      ]
     },
     "execution_count": 125,
     "metadata": {},
     "output_type": "execute_result"
    }
   ],
   "source": [
    "YellowTaxiJanuary.head"
   ]
  },
  {
   "cell_type": "code",
   "execution_count": 126,
   "metadata": {},
   "outputs": [
    {
     "data": {
      "text/plain": [
       "<bound method NDFrame.head of          VendorID tpep_pickup_datetime tpep_dropoff_datetime  passenger_count  \\\n",
       "0               1  2022-02-01 00:06:58   2022-02-01 00:19:24              1.0   \n",
       "1               1  2022-02-01 00:38:22   2022-02-01 00:55:55              1.0   \n",
       "2               1  2022-02-01 00:03:20   2022-02-01 00:26:59              1.0   \n",
       "3               2  2022-02-01 00:08:00   2022-02-01 00:28:05              1.0   \n",
       "4               2  2022-02-01 00:06:48   2022-02-01 00:33:07              1.0   \n",
       "...           ...                  ...                   ...              ...   \n",
       "2979426         2  2022-02-28 23:50:00   2022-03-01 00:06:00              NaN   \n",
       "2979427         2  2022-02-28 23:06:57   2022-02-28 23:19:12              NaN   \n",
       "2979428         2  2022-02-28 23:48:13   2022-03-01 00:03:33              NaN   \n",
       "2979429         2  2022-02-28 23:56:41   2022-03-01 00:04:57              NaN   \n",
       "2979430         2  2022-02-28 23:04:00   2022-02-28 23:10:00              NaN   \n",
       "\n",
       "         trip_distance  RatecodeID store_and_fwd_flag  PULocationID  \\\n",
       "0                 5.40         1.0                  N           138   \n",
       "1                 6.40         1.0                  N           138   \n",
       "2                12.50         1.0                  N           138   \n",
       "3                 9.88         1.0                  N           239   \n",
       "4                12.16         1.0                  N           138   \n",
       "...                ...         ...                ...           ...   \n",
       "2979426           3.40         NaN               None           163   \n",
       "2979427           3.48         NaN               None           141   \n",
       "2979428           3.05         NaN               None           161   \n",
       "2979429           2.62         NaN               None           141   \n",
       "2979430           1.41         NaN               None           237   \n",
       "\n",
       "         DOLocationID  payment_type  fare_amount  extra  mta_tax  tip_amount  \\\n",
       "0                 252             1        17.00   1.75      0.5        3.90   \n",
       "1                  41             2        21.00   1.75      0.5        0.00   \n",
       "2                 200             2        35.50   1.75      0.5        0.00   \n",
       "3                 200             2        28.00   0.50      0.5        0.00   \n",
       "4                 125             1        35.50   0.50      0.5        8.11   \n",
       "...               ...           ...          ...    ...      ...         ...   \n",
       "2979426           193             0        14.37   0.00      0.5        0.00   \n",
       "2979427             4             0        14.51   0.00      0.5        2.00   \n",
       "2979428           151             0        14.38   0.00      0.5        3.81   \n",
       "2979429           226             0        12.53   0.00      0.5        1.71   \n",
       "2979430           142             0         8.80   0.00      0.5        2.57   \n",
       "\n",
       "         tolls_amount  improvement_surcharge  total_amount  \\\n",
       "0                0.00                    0.3         23.45   \n",
       "1                6.55                    0.3         30.10   \n",
       "2                6.55                    0.3         44.60   \n",
       "3                3.00                    0.3         34.80   \n",
       "4                0.00                    0.3         48.66   \n",
       "...               ...                    ...           ...   \n",
       "2979426          0.00                    0.3         17.67   \n",
       "2979427          0.00                    0.3         19.81   \n",
       "2979428          0.00                    0.3         21.49   \n",
       "2979429          0.00                    0.3         17.54   \n",
       "2979430          0.00                    0.3         14.67   \n",
       "\n",
       "         congestion_surcharge  airport_fee  \n",
       "0                         0.0         1.25  \n",
       "1                         0.0         1.25  \n",
       "2                         0.0         1.25  \n",
       "3                         2.5         0.00  \n",
       "4                         2.5         1.25  \n",
       "...                       ...          ...  \n",
       "2979426                   NaN          NaN  \n",
       "2979427                   NaN          NaN  \n",
       "2979428                   NaN          NaN  \n",
       "2979429                   NaN          NaN  \n",
       "2979430                   NaN          NaN  \n",
       "\n",
       "[2979431 rows x 19 columns]>"
      ]
     },
     "execution_count": 126,
     "metadata": {},
     "output_type": "execute_result"
    }
   ],
   "source": [
    "YellowTaxiFebruary.head"
   ]
  },
  {
   "cell_type": "code",
   "execution_count": 127,
   "metadata": {},
   "outputs": [
    {
     "name": "stdout",
     "output_type": "stream",
     "text": [
      "Number of columns in January: 19\n"
     ]
    }
   ],
   "source": [
    "print(\"Number of columns in January:\", YellowTaxiJanuary.shape[1])"
   ]
  },
  {
   "cell_type": "code",
   "execution_count": 128,
   "metadata": {},
   "outputs": [
    {
     "name": "stdout",
     "output_type": "stream",
     "text": [
      "Standard deviation of trip duration in January: 46.44530513776499\n"
     ]
    }
   ],
   "source": [
    "# Convert pickup and dropoff time columns to datetime format\n",
    "YellowTaxiJanuary[\"tpep_pickup_datetime\"] = pd.to_datetime(YellowTaxiJanuary[\"tpep_pickup_datetime\"])\n",
    "YellowTaxiJanuary[\"tpep_dropoff_datetime\"] = pd.to_datetime(YellowTaxiJanuary[\"tpep_dropoff_datetime\"])\n",
    "\n",
    "# Compute the duration variable in minutes\n",
    "YellowTaxiJanuary[\"duration\"] = (YellowTaxiJanuary[\"tpep_dropoff_datetime\"] - YellowTaxiJanuary[\"tpep_pickup_datetime\"]).dt.total_seconds() / 60\n",
    "\n",
    "# Compute the standard deviation of the duration variable\n",
    "YellowTaxiJanuaryDuration_std = YellowTaxiJanuary[\"duration\"].std()\n",
    "\n",
    "print(\"Standard deviation of trip duration in January:\", YellowTaxiJanuaryDuration_std)"
   ]
  },
  {
   "cell_type": "code",
   "execution_count": 129,
   "metadata": {},
   "outputs": [
    {
     "name": "stdout",
     "output_type": "stream",
     "text": [
      "Records before removing outliers: 2463931 \n",
      "Records after removing outliers: 2421440\n",
      "\n",
      "Fraction of records left after dropping outliers: 0.9827547930522406\n"
     ]
    },
    {
     "data": {
      "image/png": "[encoded data removed]",
      "text/plain": [
       "<Figure size 640x480 with 1 Axes>"
      ]
     },
     "metadata": {},
     "output_type": "display_data"
    }
   ],
   "source": [
    "# Compute the number of records before and after dropping the outliers\n",
    "num_records_before = len(YellowTaxiJanuary)\n",
    "num_records_after = len(YellowTaxiJanuary[(YellowTaxiJanuary[\"duration\"] >= 1) & (YellowTaxiJanuary[\"duration\"] <= 60)])\n",
    "print(\"Records before removing outliers:\", num_records_before, \"\\nRecords after removing outliers:\", num_records_after)\n",
    "# Compute the fraction of records left after dropping the outliers\n",
    "fraction_left = num_records_after / num_records_before\n",
    "print(\"\\nFraction of records left after dropping outliers:\", fraction_left)\n",
    "\n",
    "# Remove outliers\n",
    "YellowTaxiJanuaryNonOutliers = YellowTaxiJanuary[(YellowTaxiJanuary[\"duration\"] >= 1) & (YellowTaxiJanuary[\"duration\"] <= 60)]\n",
    "# Check the distribution of the duration variable\n",
    "sns.histplot(YellowTaxiJanuaryNonOutliers[\"duration\"], bins=50)\n",
    "plt.show()"
   ]
  },
  {
   "cell_type": "code",
   "execution_count": 149,
   "metadata": {},
   "outputs": [],
   "source": [
    "# Select the pickup and dropoff location ID columns\n",
    "YellowTaxiJanuaryPickDrop = YellowTaxiJanuary[[\"PULocationID\", \"DOLocationID\"]]\n",
    "\n",
    "# Convert the dataframe to a list of dictionaries\n",
    "dict_list = YellowTaxiJanuaryPickDrop.to_dict(orient=\"records\")\n",
    "\n",
    "# Fit a dictionary vectorizer\n",
    "dv = DictVectorizer(sparse=False)\n",
    "dv.fit(dict_list)\n",
    "\n",
    "# Get a feature matrix from the vectorizer\n",
    "X = dv.transform(dict_list)"
   ]
  },
  {
   "cell_type": "code",
   "execution_count": 139,
   "metadata": {},
   "outputs": [
    {
     "name": "stdout",
     "output_type": "stream",
     "text": [
      "Number of columns in feature matrix: 2\n"
     ]
    }
   ],
   "source": [
    "num_columns = X.shape[1]\n",
    "print(\"Number of columns in feature matrix:\", num_columns)"
   ]
  },
  {
   "cell_type": "code",
   "execution_count": 150,
   "metadata": {},
   "outputs": [
    {
     "name": "stdout",
     "output_type": "stream",
     "text": [
      "RMSE of the linear regression model on the training data: 46.42314493428529\n"
     ]
    }
   ],
   "source": [
    "# Select the target variable\n",
    "y_train = YellowTaxiJanuary[\"duration\"]\n",
    "\n",
    "# Train a linear regression model\n",
    "model = LinearRegression()\n",
    "model.fit(X, y_train)\n",
    "\n",
    "# Predict the target variable on the training data\n",
    "y_pred = model.predict(X)\n",
    "\n",
    "#Calculate the RMSE of the model on the training data\n",
    "mse = mean_squared_error(y_train, y_pred, squared=False)\n",
    "\n",
    "print(\"RMSE of the linear regression model on the training data:\", mse)"
   ]
  },
  {
   "cell_type": "code",
   "execution_count": 147,
   "metadata": {},
   "outputs": [],
   "source": [
    "# Convert pickup and dropoff time columns to datetime format\n",
    "YellowTaxiFebruary[\"tpep_pickup_datetime\"] = pd.to_datetime(YellowTaxiFebruary[\"tpep_pickup_datetime\"])\n",
    "YellowTaxiFebruary[\"tpep_dropoff_datetime\"] = pd.to_datetime(YellowTaxiFebruary[\"tpep_dropoff_datetime\"])\n",
    "\n",
    "# Compute the duration variable in minutes\n",
    "YellowTaxiFebruary[\"duration\"] = (YellowTaxiFebruary[\"tpep_dropoff_datetime\"] - YellowTaxiFebruary[\"tpep_pickup_datetime\"]).dt.total_seconds() / 60\n",
    "\n",
    "# Remove outliers\n",
    "YellowTaxiFebruaryNonOutliers = YellowTaxiFebruary[(YellowTaxiJanuary[\"duration\"] >= 1) & (YellowTaxiFebruary[\"duration\"] <= 60)]\n",
    "\n",
    "# Select the pickup and dropoff location ID columns\n",
    "df_val = YellowTaxiFebruary[[\"PULocationID\", \"DOLocationID\"]]\n",
    "\n",
    "# Convert the dataframe to a list of dictionaries\n",
    "dict_list_val = df_val.to_dict(orient=\"records\")\n",
    "\n",
    "# Get a feature matrix from the vectorizer\n",
    "X_val = dv.transform(dict_list_val)\n",
    "\n"
   ]
  },
  {
   "cell_type": "code",
   "execution_count": 148,
   "metadata": {},
   "outputs": [
    {
     "name": "stdout",
     "output_type": "stream",
     "text": [
      "RMSE of the linear regression model on the validation data: 9.593798203918531\n"
     ]
    }
   ],
   "source": [
    "# Select the target variable\n",
    "y_val = YellowTaxiFebruary[\"duration\"]\n",
    "\n",
    "# Predict the target variable on the validation data\n",
    "y_pred_val = model.predict(X_val)\n",
    "\n",
    "# Calculate the RMSE of the model on the validation data\n",
    "mse = mean_squared_error(y_val, y_pred_val, squared=False)\n",
    "\n",
    "print(\"RMSE of the linear regression model on the validation data:\", mse)"
   ]
  }
 ],
 "metadata": {
  "kernelspec": {
   "display_name": "base",
   "language": "python",
   "name": "python3"
  },
  "language_info": {
   "codemirror_mode": {
    "name": "ipython",
    "version": 3
   },
   "file_extension": ".py",
   "mimetype": "text/x-python",
   "name": "python",
   "nbconvert_exporter": "python",
   "pygments_lexer": "ipython3",
   "version": "3.9.13"
  },
  "orig_nbformat": 4
 },
 "nbformat": 4,
 "nbformat_minor": 2
}
